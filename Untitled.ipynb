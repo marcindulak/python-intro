{
 "cells": [
  {
   "cell_type": "markdown",
   "metadata": {},
   "source": [
    "# How to setup the computer for this tutorial?\n",
    "\n",
    "This tutorial assumes Python is installed on the computer.\n",
    "\n",
    "1) To verify, on Windows, press the \"Windows\" button and type `cmd` to open the command prompt.\n",
    "On a MacOS or Linux, open a terminal.\n",
    "\n",
    "2) Make sure you downloaded the `Untitled.ipynb` (this file) to a newly created directory, called `python-intro`.\n",
    "\n",
    "3) Navigate to this directory in the command prompt/terminal using `cd python-intro` command.\n",
    "\n",
    "4) Create a python virtual environment by executing in the command prompt/terminal `python -m venv venv`\n",
    "\n",
    "5) Activate the virtual environment by executing on Windows `venv\\Scripts\\activate`, on MacOS/Linux `. venv/bin/activate`\n",
    "\n",
    "6) Install the Python libaries used by the tutorial by executing `pip install jupyter pandas openpyxl`\n",
    "\n",
    "7) Start the jupyter by executing `jupyter notebook`\n",
    "\n",
    "<img src='https://github.com/marcindulak/python-intro/raw/main/python-intro.gif' width='960' align='center'>"
   ]
  },
  {
   "cell_type": "markdown",
   "metadata": {},
   "source": [
    "# What is Python?\n",
    "\n",
    "Python is an interpreted language. For our purpose this means that no manual compilation step is necessary when running Python programs.\n",
    "This results in a fast-feedback loop, and makes Python a popular tool for exploratory data analysis.\n",
    "\n",
    "Here is an example of [Compiling the Linux kernel](https://www.youtube.com/watch?v=_va03wswz1E) program code, on a fast machine.\n",
    "It takes about a minute of waiting, during which one cannot interact with the program. On the other hand, in Python,\n",
    "one can start the interpreter and provide it with instructions which are executed without additional steps or waiting time.\n",
    "\n",
    "![](https://imgs.xkcd.com/comics/compiling.png)\n",
    "\n",
    "Source: https://3d.xkcd.com/303/"
   ]
  },
  {
   "cell_type": "markdown",
   "metadata": {},
   "source": [
    "# Why is Python popular?\n",
    "\n",
    "Python was created in 1991, and in mid 1990s and early 2000s,\n",
    "research institutions started replacing some parts of the compiled code with Python.\n",
    "Initially Python was used as a glue language to start and coordinate other programs,\n",
    "but apperance of fast numerical libraries in Python, allowed it to enter the domain of high performance computing.\n",
    "For example, Python libraries like [numarray : A New Scientific Array Package for Python](https://www.semanticscholar.org/paper/numarray-%3A-A-New-Scientific-Array-Package-for-Greenfield-Miller/3727b1ace9097add6657b8d836b28e4dc4d8a1a9)\n",
    "were used for operations on data from the Hubble telescope around year 2000 .\n",
    "\n",
    "The term \"data science\" was almost inexistent at that time, even though it can be tracked to 1974 https://en.wikipedia.org/wiki/Data_science#Etymology. The focus of the 2000s was on numerical simulations,\n",
    "and this resulted in creation of more numerical libraries for Python, like https://numpy.org/ or https://scipy.org/.\n",
    "\n",
    "In early 2010s \"data science\" became an oportunity for natural science students to enter higher paid jobs,\n",
    "instead of becoming postdocs or possibly assistant professors. The popularity of Python among non-computer science\n",
    "students, and existence of early \"data science\" tools like https://en.wikipedia.org/wiki/Scikit-learn or https://en.wikipedia.org/wiki/Pandas_(software) enforced the position of Python as a programming language."
   ]
  },
  {
   "cell_type": "markdown",
   "metadata": {},
   "source": [
    "# How popular is Python?\n",
    "\n",
    "Python according to it's online presence, as measures by various indexes like https://www.tiobe.com/tiobe-index/, https://pypl.github.io/PYPL.html or https://survey.stackoverflow.co/2022/, Python is in the top 3, if not the most popular language.\n",
    "It competes with languages like Java, Javascript or C/C++.\n",
    "\n",
    "On the other hand, the Python project is maintained by volunteers at https://github.com/python, with\n",
    "minor grants from digital technology giants like meta https://pyfound.blogspot.com/2022/03/meta-deepens-its-investment-in-python.html\n",
    "```\n",
    "Meta has made a $300,000 Visionary level sponsorship of the Python Software Foundation\n",
    "```\n",
    "or google https://cloud.google.com/blog/products/open-source/supporting-the-python-ecosystem\n",
    "```\n",
    "First, we’re announcing a donation of more than $350,000 to support three specific PSF projects, with a focus on improving the supply-chain security of the Python ecosystem.\n",
    "```\n",
    "\n",
    "The grants are sufficient to maintain **one** Developer-in-Residence role https://pyfound.blogspot.com/2021/07/ukasz-langa-is-inaugural-cpython.html\n",
    "\n",
    "![](https://imgs.xkcd.com/comics/dependency.png)\n",
    "\n",
    "Source: https://xkcd.com/2347\n",
    "\n",
    "The name Python is a tribute to the British comedy group *Monty Python*. **And Now for Something Completely Different.**"
   ]
  },
  {
   "cell_type": "markdown",
   "metadata": {},
   "source": [
    "# What is Jupyter?\n",
    "\n",
    "We are currently in Jupyter.\n",
    "\n",
    "Jupyter is an interactive development environment. Its name stems from the main supported languages: Julia, Python and R.\n",
    "\n",
    "Jupyter represents an implementation of so called [literate programming](https://en.wikipedia.org/wiki/Literate_programming) paradigm from 1984, where one intersperses code, explanations and other documentation means like images or videos, in order to make the program better understandable for humans.\n",
    "\n",
    "Until now we've been in the documentation (so called `Markdown`) type cells. In order to create a new cell, click the plus **+** symbol located on top of the current tab."
   ]
  },
  {
   "cell_type": "code",
   "execution_count": null,
   "metadata": {},
   "outputs": [],
   "source": [
    "# We are in a Code cell now. The switch between Code and Markdown in the top menu.\n",
    "# Lines started with the pound sign # are comments, and are not executed by Python"
   ]
  },
  {
   "cell_type": "code",
   "execution_count": null,
   "metadata": {},
   "outputs": [],
   "source": [
    "# We are in another Code cell\n",
    "# Let's execute the first Python statement to print a string of characters to the screen\n",
    "print(\"Hello, World!\")\n",
    "# The output will appear below the cell"
   ]
  },
  {
   "cell_type": "markdown",
   "metadata": {},
   "source": [
    "## Exercise 1\n",
    "\n",
    "Python includes several built-in types: for example strings, integers, booleans and lists.\n",
    "\n",
    "Examples of strings are `\"Hello, World!\"` and `\"1\"`, they are \"quoted\".\n",
    "\n",
    "Examples of integers are `0` and `1`.\n",
    "\n",
    "The only booleans are `True` and `False`. The lower/upper case matters in Python.\n",
    "\n",
    "Examples of lists are `[1, 2]` and `[True, \"a\", 1]`.\n",
    "\n",
    "In a Code cell below, use the `print` function to ouput the following results:\n",
    "- the sum of `2` and `2`\n",
    "- the sum of `\"a\"` and `\"b\"`\n",
    "- the sum of and empty list `[]` and a list of `[True]`, the result of which multiplied by `3`.\n",
    "\n",
    "Use the standard operators `+` for sum and `*` for multiplication.\n",
    "\n",
    "What results do you expect?"
   ]
  },
  {
   "cell_type": "code",
   "execution_count": null,
   "metadata": {},
   "outputs": [],
   "source": []
  },
  {
   "cell_type": "markdown",
   "metadata": {},
   "source": [
    "# A surprise!\n",
    "\n",
    "How is the output below possible?"
   ]
  },
  {
   "cell_type": "code",
   "execution_count": 1,
   "metadata": {},
   "outputs": [
    {
     "name": "stdout",
     "output_type": "stream",
     "text": [
      "5\n"
     ]
    }
   ],
   "source": [
    "print(2 + 2)"
   ]
  },
  {
   "cell_type": "markdown",
   "metadata": {},
   "source": [
    "### How is this possible?\n",
    "\n",
    "The answer is in the 2018 talk [I don't like notebooks](https://www.youtube.com/watch?v=7jiPeIFXb6U), and can be summarized that notebooks have an internal state that can be modified out of execution order. The interactive behavior and format of the notebooks makes applying some of the mainstream practices of software engineering, like testing, extra challenging.\n",
    "\n",
    "There are however organizations that try to make notebooks more robust. See the 2020 talk [I like notebooks]( https://www.youtube.com/watch?v=9Q6sLbz37gk)."
   ]
  },
  {
   "cell_type": "markdown",
   "metadata": {},
   "source": [
    "# Where to learn Python?\n",
    "\n",
    "For a short, free interactive tutorial that includes the basic concepts and a glimpse\n",
    "of more advanced ones, like data science tools and functional programming see https://www.learnpython.org/.\n",
    "This tutorial is powered by https://datacamp.com, which offers many introductory courses.\n",
    "\n",
    "For an extensive, free, non-interactive tutorial see https://swcarpentry.github.io/python-novice-inflammation/.\n",
    "\n",
    "For a college level introduction to Python, which focuses on the basics of numerical methods\n",
    "see https://www.edx.org/xseries/mitx-computational-thinking-using-python.\n",
    "\n",
    "For an in-depth live demonstration of most concepts of the Python language,\n",
    "like functional and object-oriented programming see https://www.udemy.com/user/fredbaptiste/.\n",
    "\n",
    "For keeping up to date with the latest developments in Python, see the half-day workshops presented\n",
    "during the Pycon conference https://www.youtube.com/c/pyconus/videos. They are availabe for free."
   ]
  },
  {
   "cell_type": "markdown",
   "metadata": {},
   "source": [
    "# Something insane, crazy - combine Excel files with Python!\n",
    "\n",
    "As an introduction, here is a part of Pycon presentation by David Beazley, who is an engaging speaker.\n",
    "\n",
    "[David Beazley: Generators: The Final Frontier - PyCon 2014](https://www.youtube.com/video/D1twn9kLmYg#t=2h16m39s)"
   ]
  },
  {
   "cell_type": "code",
   "execution_count": null,
   "metadata": {},
   "outputs": [],
   "source": [
    "import pandas as pd\n",
    "\n",
    "# Create two excel files to be combined\n",
    "with pd.ExcelWriter('excel1.xlsx', mode='w') as writer:\n",
    "    pd.DataFrame.from_dict({'id': [1, 2, 3]}).to_excel(writer, sheet_name='Sheet1', header=True, index=False)\n",
    "with pd.ExcelWriter('excel2.xlsx', mode='w') as writer:\n",
    "    pd.DataFrame.from_dict({'id': [4, 5, 6]}).to_excel(writer, sheet_name='Sheet1', header=True, index=False)"
   ]
  },
  {
   "cell_type": "code",
   "execution_count": null,
   "metadata": {},
   "outputs": [],
   "source": [
    "import pandas as pd\n",
    "\n",
    "# Combine the files\n",
    "with pd.ExcelWriter('python.xlsx', mode='w') as writer:\n",
    "    sheet1 = pd.read_excel('excel1.xlsx', sheet_name='Sheet1', header=0)\n",
    "    sheet2 = pd.read_excel('excel2.xlsx', sheet_name='Sheet1', header=0)\n",
    "    pd.concat([sheet1, sheet2]).to_excel(writer, sheet_name='Sheet1', header=True, index=False)"
   ]
  },
  {
   "cell_type": "code",
   "execution_count": null,
   "metadata": {},
   "outputs": [],
   "source": [
    "# Read the created excel file and print the contents\n",
    "print(pd.read_excel('python.xlsx', sheet_name='Sheet1'))"
   ]
  },
  {
   "cell_type": "code",
   "execution_count": null,
   "metadata": {},
   "outputs": [],
   "source": [
    "# Test that combining produced the expected contents\n",
    "assert pd.read_excel('python.xlsx', sheet_name='Sheet1').to_dict('list') == {'id': [1, 2, 3, 4, 5, 6]}"
   ]
  }
 ],
 "metadata": {
  "kernelspec": {
   "display_name": "Python 3 (ipykernel)",
   "language": "python",
   "name": "python3"
  },
  "language_info": {
   "codemirror_mode": {
    "name": "ipython",
    "version": 3
   },
   "file_extension": ".py",
   "mimetype": "text/x-python",
   "name": "python",
   "nbconvert_exporter": "python",
   "pygments_lexer": "ipython3",
   "version": "3.8.10"
  }
 },
 "nbformat": 4,
 "nbformat_minor": 4
}
